{
 "cells": [
  {
   "cell_type": "markdown",
   "metadata": {},
   "source": [
    "# Machine Learning- COIY065H7\n",
    "\n",
    "## Coursework, WAME Optimiser Evaluation\n",
    "\n",
    "Copy of this has been loaded to https://github.com/bfromson/ML-WAME-Coursework. It works with runtime GPU in Colab but requires file locations for loading CSV files to be altered and cannot write the result files when running on Colab. If cloning and running locally then the Landsat csv files should be in same directory as the code and the parameter files for controlling runs should be in a directory called \"DataForRuns\" in the same location."
   ]
  },
  {
   "cell_type": "markdown",
   "metadata": {},
   "source": [
    "Load modules for use throughout the workbook"
   ]
  },
  {
   "cell_type": "code",
   "execution_count": 1,
   "metadata": {},
   "outputs": [],
   "source": [
    "indir = './DataForRuns/'\n",
    "infile = 'AdamOnly'"
   ]
  },
  {
   "cell_type": "code",
   "execution_count": 2,
   "metadata": {},
   "outputs": [],
   "source": [
    "import numpy as np\n",
    "import pandas as pd\n",
    "\n",
    "import torch\n",
    "from torch import nn\n",
    "from torch.nn import CrossEntropyLoss\n",
    "from torch.nn import Module\n",
    "from torch.optim import *\n",
    "from torch.optim.optimizer import Optimizer\n",
    "from torch.utils.data import DataLoader\n",
    "from torch.utils.data import TensorDataset\n",
    "\n",
    "from torchvision.transforms import ToTensor\n",
    "from torchsummary import summary\n",
    "\n",
    "import sklearn\n",
    "from sklearn.preprocessing import MinMaxScaler\n",
    "from sklearn.preprocessing import StandardScaler\n",
    "from sklearn.model_selection import train_test_split\n",
    "from sklearn.model_selection import KFold\n",
    "from sklearn.model_selection import StratifiedKFold\n",
    "from sklearn import metrics\n",
    "\n",
    "from matplotlib import pyplot as plt\n",
    "%matplotlib inline\n",
    "\n",
    "from imblearn.over_sampling import RandomOverSampler\n",
    "from imblearn.over_sampling import SMOTE\n",
    "\n",
    "import time\n",
    "\n",
    "import csv"
   ]
  },
  {
   "cell_type": "markdown",
   "metadata": {},
   "source": [
    "Verify versions of ML libraries being used"
   ]
  },
  {
   "cell_type": "code",
   "execution_count": 3,
   "metadata": {},
   "outputs": [
    {
     "name": "stdout",
     "output_type": "stream",
     "text": [
      "Python version:         3.7.3 (default, Mar 27 2019, 22:11:17) \t[GCC 7.3.0]\n",
      "PyTorch version:        1.5.0\n",
      "CUDA Version:           10.2\n",
      "Scikit-learn Version:   0.22.1\n"
     ]
    }
   ],
   "source": [
    "import sys\n",
    "print(\"Python version:        \", sys.version.replace(\"\\n\",\"\\t\"))\n",
    "print(\"PyTorch version:       \", torch.__version__)\n",
    "print(\"CUDA Version:          \", torch.version.cuda)\n",
    "print(\"Scikit-learn Version:  \", sklearn.__version__)"
   ]
  },
  {
   "cell_type": "markdown",
   "metadata": {},
   "source": [
    "## Routines to be used \n",
    "\n",
    "PrintResults will output a table of Precision and Recall for each class"
   ]
  },
  {
   "cell_type": "code",
   "execution_count": 4,
   "metadata": {},
   "outputs": [],
   "source": [
    "def PrintResults(predictions, actuals, printit):\n",
    "    ynp = predictions.numpy()\n",
    "    testnp = actuals.numpy()\n",
    "    if printit:\n",
    "        print(\"Class \\t Cases \\t TP \\t FP \\t Precision \\t Recall \\t F1\")\n",
    "    allcases = 0\n",
    "    allTP = 0\n",
    "    allFP = 0\n",
    "    output=[]\n",
    "    epsilon = 1e-10\n",
    "    F1avg = 0\n",
    "    Pavg = 0\n",
    "    Ravg = 0\n",
    "    for i in range(0,6):\n",
    "        cases = sum(testnp==i)\n",
    "        allcases += cases\n",
    "        TP = sum((ynp==i) & (testnp==i))\n",
    "        FP = sum((ynp==i) & (testnp!=i))\n",
    "        allTP += TP\n",
    "        allFP += FP\n",
    "        Precision = TP / (TP + FP + epsilon)\n",
    "        Recall = TP / cases\n",
    "        F1 = 2 * (Precision * Recall) / (Precision + Recall + epsilon)\n",
    "        Pavg += Precision\n",
    "        Ravg += Recall\n",
    "        F1avg += F1\n",
    "        if printit:\n",
    "            print(i, \"\\t\", cases, \"\\t\" ,TP, \"\\t\", FP, \"\\t\", round(Precision, 3), \"\\t\", \"\\t\", round(Recall, 3), \"\\t\", \"\\t\", round(F1, 3))\n",
    "        output.append(i)\n",
    "        output.append(cases)\n",
    "        output.append(TP)\n",
    "        output.append(FP)\n",
    "    Precision = Pavg / 6\n",
    "    Recall = Ravg / 6\n",
    "    F1 = F1avg / 6\n",
    "    output.append(Precision)\n",
    "    output.append(Recall)\n",
    "    output.append(F1)\n",
    "    if printit:\n",
    "        print(\"Total\", \"\\t\", allcases, \"\\t\" ,allTP, \"\\t\", allFP, \"\\t\", round(Precision, 3), \"\\t\", \"\\t\", round(Recall, 3), \"\\t\", \"\\t\", round(F1,3))\n",
    "    return(output)"
   ]
  },
  {
   "cell_type": "markdown",
   "metadata": {},
   "source": [
    "Check returns the class predictions and accuracy score of a model"
   ]
  },
  {
   "cell_type": "code",
   "execution_count": 5,
   "metadata": {},
   "outputs": [],
   "source": [
    "def Check(Xvals, Yactuals, model):\n",
    "    predictraw = model(Xvals.to(device)).detach().cpu()\n",
    "    predict = np.argmax(predictraw, axis=-1)\n",
    "    predict_score = predict == Yactuals\n",
    "    correct = np.sum(predict_score.numpy(), axis=-1)\n",
    "    sumtot = predict_score.shape[0]\n",
    "    score = correct / sumtot\n",
    "    return (predict, score)"
   ]
  },
  {
   "cell_type": "markdown",
   "metadata": {},
   "source": [
    "## Wame optimizer\n",
    "\n",
    "Logic for the optimiser follows the paper by Mosca, \n",
    "\n",
    "A. Mosca and G. D. Magoulas, ‘Training convolutional networks with weight-wise adaptive learning rates’, in ESANN, 2017.\n",
    "\n",
    "The code for the PyTorch optimizer implementation was adapted from the PyTorch souce code using -\n",
    "\n",
    "PyTorch optimizer class code: https://pytorch.org/docs/stable/optim.html\n",
    "\n",
    "Example of RProp implementation: https://pytorch.org/docs/stable/_modules/torch/optim/rprop.html\n",
    "\n",
    "And guidance on writing a custom optimizer for AdamW: http://mcneela.github.io/machine_learning/2019/09/03/Writing-Your-Own-Optimizers-In-Pytorch.html\n"
   ]
  },
  {
   "cell_type": "code",
   "execution_count": 6,
   "metadata": {},
   "outputs": [],
   "source": [
    "class wame(Optimizer):\n",
    "\n",
    "\n",
    "    def __init__(self, params,lr=1e-3, alpha=0.9, etas=(0.1, 1.2), zetas=(0.01, 100), epsilon=1e-10, debug=False ):\n",
    "        if not 0.0 <= lr:\n",
    "            raise ValueError(\"Invalid learning rate: {}\".format(lr))\n",
    "        if not 0.0 <= alpha:\n",
    "            raise ValueError(\"Invalid learning rate: {}\".format(alpha))\n",
    "        if not 0.0 < etas[0] < 1.0 < etas[1]:\n",
    "            raise ValueError(\"Invalid eta values: {}, {}\".format(etas[0], etas[1]))\n",
    "\n",
    "        defaults = dict(alpha=alpha, etas=etas, zetas=zetas, lr=lr, epsilon=epsilon, debug=debug)\n",
    "        super(wame, self).__init__(params, defaults)\n",
    "\n",
    "    @torch.no_grad()\n",
    "    def step(self, closure=None):\n",
    "        loss = None\n",
    "        if closure is not None:\n",
    "            loss = closure()\n",
    "   \n",
    "        for group in self.param_groups:    \n",
    "            etaminus, etaplus = group['etas']\n",
    "            zeta_min, zeta_max = group['zetas']\n",
    "            alpha = group['alpha']\n",
    "            lr = group['lr']\n",
    "            epsilon = group['epsilon']\n",
    "            debug = group['debug']\n",
    "            _p = 0\n",
    "\n",
    "            for p in group['params']:\n",
    "                if p.grad is None:\n",
    "                    continue\n",
    "                grad = p.grad.data\n",
    "                if grad.is_sparse:\n",
    "                    raise RuntimeError('wame does not support sparse gradients')\n",
    "                state = self.state[p]\n",
    "\n",
    "                # State initialization\n",
    "                if len(state) == 0:\n",
    "                    state['step'] = 0\n",
    "                    state['prev'] = torch.ones_like(p.data, memory_format=torch.preserve_format)\n",
    "                    state['prev'] = grad\n",
    "                    state['Theta'] = torch.zeros_like(p.data, memory_format=torch.preserve_format)\n",
    "                    state['Z'] = torch.zeros_like(p.data, memory_format=torch.preserve_format)\n",
    "                    state['zeta'] = torch.ones_like(p.data, memory_format=torch.preserve_format)\n",
    "                    state['gradmult'] = torch.zeros_like(p.data, memory_format=torch.preserve_format)\n",
    "                    \n",
    "                    state['step_size'] = grad.new().resize_as_(grad).fill_(group['lr']) ### check on initialisation\n",
    "                    state['prev'] = grad\n",
    "                    \n",
    "                if (_p == 0) & debug:\n",
    "                    print(\"Weights at start: \",p.data.sum(), p.data.size())\n",
    "                step_size = state['step_size']\n",
    "                Theta = state['Theta']\n",
    "                Z = state['Z']\n",
    "                zeta = state['zeta']\n",
    "                gradmult = state['gradmult']                    \n",
    "                \n",
    "                state['step'] += 1\n",
    "\n",
    "                gradmult = grad.mul(state['prev'])\n",
    "                zeta[gradmult.gt(0.)] = zeta[gradmult.gt(0.)].mul(etaplus).clamp(zeta_min, zeta_max)\n",
    "                zeta[gradmult.lt(0.)] = zeta[gradmult.lt(0.)].mul(etaminus).clamp(zeta_min, zeta_max)\n",
    "                zeta[gradmult.eq(0.)] = 1\n",
    "                \n",
    "                Z = Z.mul(alpha).add(zeta.mul(1 - alpha))\n",
    "                Theta = Theta.mul(alpha).add(grad.mul(grad).mul(1 - alpha))\n",
    "\n",
    "                step_size = Z.mul(-lr).mul(grad).div(Theta.add(epsilon))\n",
    "\n",
    "                grad = grad.clone(memory_format=torch.preserve_format)\n",
    "                \n",
    "                # update parameters\n",
    "                p.data = p.data.add(step_size)\n",
    "                \n",
    "                if (_p == 0) & debug:\n",
    "                    print(\"Step number \", state['step'])\n",
    "                    print(\"Weights after update: \",p.data.sum(), p.data.size())\n",
    "                    print(\"Updates applied: \",step_size.sum(), step_size.size())\n",
    "                    print(\"Theta: \",Theta.sum())\n",
    "                    print(\"Z: \",Z.sum())\n",
    "                    print(\"zeta: \",zeta.sum())\n",
    "                    print(\"grad: \",grad.sum())\n",
    "                    print(\"grad_sqd\", grad_sqd.sum())\n",
    "                    print(\"gradmult\", gradmult.sum())\n",
    "                state['prev'] = grad\n",
    "                \n",
    "                _p = _p + 1\n",
    "\n",
    "        return loss\n"
   ]
  },
  {
   "cell_type": "markdown",
   "metadata": {},
   "source": [
    "# Load Data\n",
    "\n",
    "The Landsat data recommended in the coursework description has been used for this project. The two files of training and testing data have been merged into a single file with headers added. The features have been labelled as \"F1-F36\" and the class labelled as \"Class\". An additional column named \"TrainTest\" has been added containing the value \"Train\" or \"Test\" to indicate the origin of that row of data. \n",
    "\n",
    "## Load all data from single file\n",
    "\n",
    "Split into train and test datasets. \n",
    "\n",
    "From each dataset extract the features to an X variable and the classes to a Y variable.\n",
    "\n",
    "As the classes are numeric rather than categorical change their values to be sequential from 0 to 5 to simplify the model building"
   ]
  },
  {
   "cell_type": "code",
   "execution_count": 7,
   "metadata": {},
   "outputs": [],
   "source": [
    "alldata = pd.read_csv(\"sat.all.csv\")\n",
    "traindata = alldata[alldata['TrainTest'] == 'train']\n",
    "testdata = alldata[alldata['TrainTest'] == 'test']\n"
   ]
  },
  {
   "cell_type": "code",
   "execution_count": 8,
   "metadata": {},
   "outputs": [],
   "source": [
    "trainX = traindata.iloc[:,0:36].to_numpy()\n",
    "trainY= traindata.iloc[:,36].to_numpy()\n",
    "\n",
    "testX = testdata.iloc[:,0:36].to_numpy()\n",
    "testY = testdata.iloc[:,36].to_numpy()\n",
    "\n",
    "for i in range(1,8):\n",
    "    trainY[trainY==i] = i-1\n",
    "    testY[testY==i] = i-1\n",
    "\n",
    "trainY[trainY==6] = 5\n",
    "testY[testY==6] = 5"
   ]
  },
  {
   "cell_type": "markdown",
   "metadata": {},
   "source": [
    "### Data Normalization\n",
    "\n",
    "This routine will be called to normalize data within each fold as the model is built"
   ]
  },
  {
   "cell_type": "code",
   "execution_count": 9,
   "metadata": {},
   "outputs": [],
   "source": [
    "def normalizeData(trainX, valX):\n",
    "    scaler = StandardScaler()\n",
    "    scalerFunc = scaler.fit(trainX)\n",
    "\n",
    "    trainX_norm = scalerFunc.transform(trainX)\n",
    "    valX_norm = scalerFunc.transform(valX)\n",
    "    \n",
    "    return(trainX_norm, valX_norm)"
   ]
  },
  {
   "cell_type": "markdown",
   "metadata": {},
   "source": [
    "# PyTorch Model Specification\n",
    "\n",
    "This is a parameter driven model where the number of units in the first hidden layer and the number of layers to be used can be specified when a model is instantiated.\n",
    "\n",
    "The ratio of units between consecutive hidden layers has been fixed at 2:1, though this could be altered. \n",
    "\n",
    "An alternative approach would be to allow an array of unit counts to be passed as parameters to the model where each value would represent the number of units in a layer and the number of layers would be the no of items in the array. Thsi approach was not used as it would complicate the automation of the model runs."
   ]
  },
  {
   "cell_type": "code",
   "execution_count": 10,
   "metadata": {},
   "outputs": [],
   "source": [
    "in_features = 36\n",
    "out_classes = 6\n",
    "\n",
    "class TestModel(Module):\n",
    "    def __init__(self, num_units=in_features*2, hidden_layers=4 ):\n",
    "        \n",
    "        self.hidden_layers = hidden_layers\n",
    "        hidden = []\n",
    "        hidden.append(num_units)\n",
    "        for i in range(1,hidden_layers):\n",
    "            hidden.append(max(out_classes*2,int(num_units/2**i)))\n",
    "        \n",
    "        super(TestModel, self).__init__()\n",
    "        self.fc1 = nn.Linear(in_features, hidden[0])\n",
    "\n",
    "        if hidden_layers > 1:\n",
    "            self.relu1 = nn.ReLU()\n",
    "            self.fc2 = nn.Linear(hidden[0], hidden[1])\n",
    "        if hidden_layers > 2:\n",
    "            self.relu2 = nn.ReLU()\n",
    "            self.fc3 = nn.Linear(hidden[1], hidden[2])\n",
    "        if hidden_layers > 3:\n",
    "            self.relu3 = nn.ReLU()\n",
    "            self.fc4 = nn.Linear(hidden[2], hidden[3])\n",
    "        if hidden_layers > 4:\n",
    "            self.relu4 = nn.ReLU()\n",
    "            self.fc5 = nn.Linear(hidden[3], hidden[4])\n",
    "        if hidden_layers > 5:\n",
    "            self.relu5 = nn.ReLU()\n",
    "            self.fc6 = nn.Linear(hidden[4], hidden[5])\n",
    "        \n",
    "        self.reluLast = nn.ReLU()\n",
    "        self.fcLast = nn.Linear(hidden[hidden_layers-1], out_classes)\n",
    "\n",
    "    def forward(self, x):\n",
    "        \n",
    "        hidden_layers = self.hidden_layers\n",
    "        \n",
    "        y = self.fc1(x)\n",
    "\n",
    "        if hidden_layers > 1:\n",
    "            y = self.relu1(y)\n",
    "            y = self.fc2(y)\n",
    "        if hidden_layers > 2:\n",
    "            y = self.relu2(y)\n",
    "            y = self.fc3(y)\n",
    "        if hidden_layers > 3:\n",
    "            y = self.relu3(y)\n",
    "            y = self.fc4(y)\n",
    "        if hidden_layers > 4:\n",
    "            y = self.relu4(y)\n",
    "            y = self.fc5(y)\n",
    "        if hidden_layers > 5:\n",
    "            y = self.relu5(y)\n",
    "            y = self.fc6(y)\n",
    "\n",
    "        y = self.reluLast(y)\n",
    "        y = self.fcLast(y)\n",
    "        \n",
    "        return y"
   ]
  },
  {
   "cell_type": "markdown",
   "metadata": {},
   "source": [
    "## RunModel\n",
    "\n",
    "Executes a single model run with inputs of the model to run and training and validation datasets"
   ]
  },
  {
   "cell_type": "code",
   "execution_count": 11,
   "metadata": {},
   "outputs": [],
   "source": [
    "def RunModel(model, opt, epochs, batch_size, trainX, trainY, valX, valY):\n",
    "    accuracies = []\n",
    "    validations = []\n",
    "    errors = []\n",
    "\n",
    "    train_score = 0\n",
    "    epoch = 0\n",
    "\n",
    "    trainXY_tensor = TensorDataset(trainX, trainY)\n",
    "    train_loader = DataLoader(trainXY_tensor, batch_size=batch_size)\n",
    "        \n",
    "    while (epoch < epochs):\n",
    "        batch = 0\n",
    "        for idx, (train_x, train_label) in enumerate(train_loader):\n",
    "            train_x = train_x.to(device)\n",
    "            train_label = train_label.to(device)\n",
    "            opt.zero_grad()\n",
    "            predict_y = model(train_x)\n",
    "            error = loss(predict_y, train_label.long())\n",
    "            error.backward()\n",
    "            opt.step()\n",
    "\n",
    "            batch = batch + 1\n",
    "    \n",
    "\n",
    "        train_pred, train_score = Check(trainX, trainY, model)\n",
    "        error = loss(model(trainX), trainY.to(device).long())\n",
    "        val_pred, val_score = Check(valX, valY, model)\n",
    "\n",
    "        accuracies.append(train_score)\n",
    "        validations.append(val_score)\n",
    "        errors.append(error)\n",
    "    \n",
    "        epoch += 1   \n",
    "        \n",
    "    return(accuracies, errors, validations)"
   ]
  },
  {
   "cell_type": "markdown",
   "metadata": {},
   "source": [
    "## RunFolds\n",
    "\n",
    "Runs the model using the supplied feature and class datasets with the data split into the number of folds requested. The final parameter is a boolean which if instructs the routine to print progress information on each fold."
   ]
  },
  {
   "cell_type": "code",
   "execution_count": 12,
   "metadata": {},
   "outputs": [],
   "source": [
    "def RunFolds(model, opt, epochs, nfolds, batch_size, trainX, trainY, outputrequired):\n",
    "    \n",
    "    fold = 0\n",
    "    torch.save(model.state_dict(),'initial_weights.state')\n",
    "\n",
    "    foldAcc = []\n",
    "    foldVal =  []\n",
    "    foldErr = []\n",
    "    allResults = []\n",
    "\n",
    "    for trainIndex, testIndex in nfolds.split(trainX, trainY):\n",
    "        \n",
    "        foldTrainX = trainX[trainIndex]\n",
    "        foldValX = trainX[testIndex]\n",
    "        \n",
    "        foldTrainY = trainY[trainIndex]\n",
    "        foldValY = trainY[testIndex]\n",
    "        \n",
    "        if outputrequired:\n",
    "            classcount = []\n",
    "            for i in range(0,6):\n",
    "                classcount.append(sum(foldTrainY==i))\n",
    "            print(\"Before processing, item count and distribution\")\n",
    "            print(\"Fold \",fold + 1,\" before processing, item count and distribution \",sum(classcount),classcount,    \n",
    "                  \" X range: \",foldTrainX.min(),foldTrainX.max())\n",
    "\n",
    "        model.load_state_dict(torch.load('initial_weights.state'))\n",
    "    \n",
    "        foldTrainX, foldValX = normalizeData(foldTrainX, foldValX)\n",
    "\n",
    "        #oversampler = RandomOverSampler(sampling_strategy='minority')\n",
    "        #oversampler = RandomOverSampler()\n",
    "        #foldTrainX, foldTrainY = oversampler.fit_resample(foldTrainX, foldTrainY)\n",
    "        #foldTrainX, foldTrainY = oversampler.fit_resample(foldTrainX, foldTrainY)\n",
    "        #foldTrainX, foldTrainY = oversampler.fit_resample(foldTrainX, foldTrainY)\n",
    "        \n",
    "        if outputrequired:\n",
    "            classcount = []\n",
    "            for i in range(0,6):\n",
    "                classcount.append(sum(foldTrainY==i))\n",
    "            print(\"Fold \",fold + 1,\"  after processing, item count and distribution \",sum(classcount),classcount,    \n",
    "                  \" X range: {:.3f} {:.3f}\".format(foldTrainX.min(),foldTrainX.max()))\n",
    "            \n",
    "\n",
    "        trainX_tensor = torch.from_numpy(foldTrainX).float()\n",
    "        trainY_tensor = torch.from_numpy(foldTrainY).float()\n",
    "\n",
    "        valX_tensor = torch.from_numpy(foldValX).float()\n",
    "        valY_tensor = torch.from_numpy(foldValY).float()\n",
    "\n",
    "        time00 = time.perf_counter()\n",
    "        torch.manual_seed(7)\n",
    "\n",
    "        acc, val, err = RunModel(model, opt, epochs, batch_size, trainX_tensor, trainY_tensor, valX_tensor, valY_tensor)\n",
    "    \n",
    "        time01 = time.perf_counter()\n",
    "        train_pred, train_score = Check(trainX_tensor, trainY_tensor, model)\n",
    "        error = loss(model(trainX_tensor), trainY_tensor.to(device).long()).detach().cpu().numpy()\n",
    "        val_pred, val_score = Check(valX_tensor, valY_tensor, model)\n",
    "        if outputrequired:\n",
    "            print('fold: {} \\t accuracy: {:.6f} error: {:.6f} validation accuracy: {:.6f} time {:.3f}s'.format(\n",
    "               fold + 1, train_score, error, val_score, time01 - time00))\n",
    "        allResults.extend(PrintResults(val_pred, valY_tensor, outputrequired))\n",
    "\n",
    "        foldAcc.append(train_score)\n",
    "        foldVal.append(val_score)\n",
    "        foldErr.append(error)\n",
    "    \n",
    "        fold += 1\n",
    "\n",
    "    return(foldAcc, foldVal, foldErr, allResults)"
   ]
  },
  {
   "cell_type": "markdown",
   "metadata": {},
   "source": [
    "# Read the parameter file\n",
    "\n",
    "Parameters stored in a CSV file are read and the model generator will be run for each set of parameters.\n",
    "\n",
    "Update the string infile to change the input file"
   ]
  },
  {
   "cell_type": "code",
   "execution_count": 13,
   "metadata": {},
   "outputs": [
    {
     "name": "stdout",
     "output_type": "stream",
     "text": [
      "[300, 2, 2048, 0.001, 200, 10, 'Adam', 0.85]\n"
     ]
    }
   ],
   "source": [
    "allruns = pd.read_csv(indir + infile + \".csv\",sep=\",\")\n",
    "\n",
    "print(allruns.T[0].to_list())"
   ]
  },
  {
   "cell_type": "markdown",
   "metadata": {},
   "source": [
    "# This is block to execute runs\n",
    "\n",
    "## One run for each line in parameter file:\n",
    "\n",
    "##### read parameters from each line of file, and display parameters being used\n",
    "##### instantiate a model according to parameters (use GPU if available)\n",
    "##### set up optimizer and fold generator according to parameters\n",
    "##### Call RunFolds to execute all the folds\n",
    "##### accumulate all results so they can be saved to file"
   ]
  },
  {
   "cell_type": "code",
   "execution_count": 14,
   "metadata": {},
   "outputs": [
    {
     "name": "stdout",
     "output_type": "stream",
     "text": [
      "Executing run number 0\n",
      "Optimiser Adam Using 2 hidden_layers with 300 units in first layer. Batch size of 2048 for 200 epochs. 10 folds. Learning rate 1.0e-03 Alpha 0.85\n",
      "\n",
      "Results Accuracy: mean 0.947 std 0.004 Validation Accuracy: mean 0.907 std 0.009 Runtime 58.32 seconds\n",
      "\n",
      "\n",
      " Al runs run\n"
     ]
    }
   ],
   "source": [
    "count = 0\n",
    "\n",
    "allresults = []\n",
    "\n",
    "for index,row in allruns.iterrows():\n",
    "    num_units = int(row['num_units'])\n",
    "    hidden_layers = int(row['hidden_layers'])\n",
    "    batch_size = int(row['batch_size'])\n",
    "    lr = row['lr']\n",
    "    epochs = int(row['epochs'])\n",
    "    fold_splits = int(row['fold_splits'])\n",
    "    optName = row['optName']\n",
    "    alpha = row['alpha']\n",
    "    \n",
    "    blurb = False\n",
    "    \n",
    "    print(\"Executing run number\", count)\n",
    "    print('Optimiser {} Using {} hidden_layers with {} units in first layer. Batch size of {} for {} epochs. \\\n",
    "{} folds. Learning rate {:.1e} Alpha {:.2f}'.format(\n",
    "            optName, hidden_layers, num_units, batch_size, epochs, fold_splits, lr, alpha))\n",
    "    print()\n",
    "\n",
    "    if torch.cuda.is_available():\n",
    "        model = torch.nn.DataParallel(TestModel(num_units=num_units, hidden_layers=hidden_layers)).cuda()\n",
    "        device = torch.device(\"cuda\")\n",
    "    else:\n",
    "        model = TestModel()\n",
    "        device = torch.device(\"cpu\")\n",
    "\n",
    "    if blurb:\n",
    "        print(model)\n",
    "\n",
    "    if optName == \"Wame\":\n",
    "        opt = wame(model.parameters(), lr=lr, alpha=alpha)\n",
    "    if optName == \"SGD\":\n",
    "        opt = SGD(model.parameters(), lr=lr)\n",
    "    if optName == \"Adam\":\n",
    "        opt = Adam(model.parameters(), lr=lr)\n",
    "\n",
    "    loss = CrossEntropyLoss().to(device)\n",
    "\n",
    "    nfolds = StratifiedKFold(n_splits=fold_splits, shuffle=True)\n",
    "    \n",
    "    starttime = time.perf_counter()\n",
    "    foldAcc, foldVal, foldErr, tables = RunFolds(model, opt, epochs, nfolds, batch_size, trainX, trainY, blurb)\n",
    "    runtime= time.perf_counter() - starttime\n",
    "    \n",
    "    print('Results Accuracy: mean {:.3f} std {:.3f} Validation Accuracy: mean {:.3f} std {:.3f} \\\n",
    "Runtime {:.2f} seconds'.format(\n",
    "        np.mean(foldAcc), np.std(foldAcc), np.mean(foldVal), np.std(foldVal), runtime) )\n",
    "    print()\n",
    "    print()      \n",
    "    \n",
    "    allresults.append(allruns.T[count].to_list() + foldAcc + foldVal + [runtime] + tables )\n",
    "          \n",
    "    count += 1\n",
    "    \n",
    "print(\" Al runs run\")"
   ]
  },
  {
   "cell_type": "markdown",
   "metadata": {},
   "source": [
    "# Store \n",
    "\n",
    "### all results into a separate CSV file"
   ]
  },
  {
   "cell_type": "code",
   "execution_count": 93,
   "metadata": {},
   "outputs": [],
   "source": [
    "import csv\n",
    "with open(indir + \"Z\" + infile + 'Results.csv', 'w+') as file:\n",
    "    writer = csv.writer(file)\n",
    "    writer.writerows( allresults )"
   ]
  },
  {
   "cell_type": "markdown",
   "metadata": {},
   "source": [
    "# EXECUTE TO HERE WHEN RUNNING EXPERIMENTS\n",
    "\n",
    "## Only run final Test when a model has been selected"
   ]
  },
  {
   "cell_type": "markdown",
   "metadata": {},
   "source": [
    "# TEST on true test dataset\n",
    "\n",
    "When a suitable candidate model has been built test it on the test dataset\n",
    "\n",
    "This should only be run when all candidate model parameters have been assessed using the kFold runs specified. Frequent use of the test data will corrupt the parameter selection and leak information from the test data into the final model "
   ]
  },
  {
   "cell_type": "code",
   "execution_count": 15,
   "metadata": {},
   "outputs": [
    {
     "name": "stdout",
     "output_type": "stream",
     "text": [
      "Class \t Cases \t TP \t FP \t Precision \t Recall \t F1\n",
      "0 \t 1072 \t 1069 \t 4 \t 0.996 \t \t 0.997 \t \t 0.997\n",
      "1 \t 479 \t 478 \t 0 \t 1.0 \t \t 0.998 \t \t 0.999\n",
      "2 \t 961 \t 936 \t 87 \t 0.915 \t \t 0.974 \t \t 0.944\n",
      "3 \t 415 \t 327 \t 53 \t 0.861 \t \t 0.788 \t \t 0.823\n",
      "4 \t 470 \t 455 \t 10 \t 0.978 \t \t 0.968 \t \t 0.973\n",
      "5 \t 1038 \t 981 \t 35 \t 0.966 \t \t 0.945 \t \t 0.955\n",
      "Total \t 4435 \t 4246 \t 189 \t 0.953 \t \t 0.945 \t \t 0.948\n",
      "\n",
      "Class \t Cases \t TP \t FP \t Precision \t Recall \t F1\n",
      "0 \t 461 \t 460 \t 8 \t 0.983 \t \t 0.998 \t \t 0.99\n",
      "1 \t 224 \t 217 \t 7 \t 0.969 \t \t 0.969 \t \t 0.969\n",
      "2 \t 397 \t 372 \t 51 \t 0.879 \t \t 0.937 \t \t 0.907\n",
      "3 \t 211 \t 144 \t 45 \t 0.762 \t \t 0.682 \t \t 0.72\n",
      "4 \t 237 \t 219 \t 23 \t 0.905 \t \t 0.924 \t \t 0.914\n",
      "5 \t 470 \t 406 \t 48 \t 0.894 \t \t 0.864 \t \t 0.879\n",
      "Total \t 2000 \t 1818 \t 182 \t 0.899 \t \t 0.896 \t \t 0.897\n",
      "Test accuracy: 0.957384 validation accuracy: 0.909000\n"
     ]
    }
   ],
   "source": [
    "model.load_state_dict(torch.load('initial_weights.state'))\n",
    "\n",
    "normTrainX, normTestX = normalizeData(trainX, testX)\n",
    "\n",
    "trainX_tensor = torch.from_numpy(normTrainX).float()\n",
    "trainY_tensor = torch.from_numpy(trainY).float()\n",
    "\n",
    "valX_tensor = torch.from_numpy(normTestX).float()\n",
    "valY_tensor = torch.from_numpy(testY).float()\n",
    "\n",
    "\n",
    "time00 = time.perf_counter()\n",
    "torch.manual_seed(7)\n",
    "\n",
    "acc, val, err = RunModel(model, opt, epochs, batch_size, trainX_tensor, trainY_tensor, trainX_tensor, trainY_tensor)\n",
    "\n",
    "time01 = time.perf_counter()\n",
    "\n",
    "train_pred, train_score = Check(trainX_tensor, trainY_tensor, model)\n",
    "PrintResults(train_pred, trainY_tensor, True)\n",
    "\n",
    "print()\n",
    "\n",
    "val_pred, val_score = Check(valX_tensor, valY_tensor, model)\n",
    "PrintResults(val_pred, valY_tensor, True)\n",
    "\n",
    "print('Test accuracy: {:.6f} validation accuracy: {:.6f}'.format(\n",
    "        train_score, val_score))\n"
   ]
  },
  {
   "cell_type": "code",
   "execution_count": 16,
   "metadata": {},
   "outputs": [
    {
     "data": {
      "image/png": "[encoded data removed]",
      "text/plain": [
       "<Figure size 432x288 with 1 Axes>"
      ]
     },
     "metadata": {
      "needs_background": "light"
     },
     "output_type": "display_data"
    }
   ],
   "source": [
    "plotrange = epochs\n",
    "\n",
    "plt.plot(range(plotrange), acc[0:plotrange], color='green')\n",
    "plt.plot(range(plotrange), val[0:plotrange], color='blue')\n",
    "plt.plot(range(plotrange), err[0:plotrange], color='r')\n",
    "title = \"Optimizer {} reached accuracy {:.3f} in {:.2f} seconds\".format(optName, train_score, time01 - time00)\n",
    "plt.xlabel('Epochs')\n",
    "plt.ylabel('Accuracy, Validation and Error')\n",
    "plt.title(title)\n",
    "plt.show()"
   ]
  }
 ],
 "metadata": {
  "kernelspec": {
   "display_name": "Python 3",
   "language": "python",
   "name": "python3"
  },
  "language_info": {
   "codemirror_mode": {
    "name": "ipython",
    "version": 3
   },
   "file_extension": ".py",
   "mimetype": "text/x-python",
   "name": "python",
   "nbconvert_exporter": "python",
   "pygments_lexer": "ipython3",
   "version": "3.7.3"
  }
 },
 "nbformat": 4,
 "nbformat_minor": 4
}
