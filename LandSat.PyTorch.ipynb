{
 "cells": [
  {
   "cell_type": "code",
   "execution_count": 1,
   "metadata": {},
   "outputs": [],
   "source": [
    "import numpy as np\n",
    "import pandas as pd\n",
    "import torch\n",
    "from torch import nn\n",
    "from torch.nn import CrossEntropyLoss\n",
    "from torch.nn import Module\n",
    "from torch.optim import *\n",
    "from torch.optim.optimizer import Optimizer\n",
    "from torch.utils.data import DataLoader\n",
    "from torch.utils.data import TensorDataset\n",
    "from torchvision.transforms import ToTensor\n",
    "from torchsummary import summary\n",
    "from sklearn.preprocessing import MinMaxScaler\n",
    "from sklearn.preprocessing import StandardScaler\n",
    "from sklearn.model_selection import train_test_split\n",
    "from matplotlib import pyplot as plt\n",
    "%matplotlib inline\n",
    "\n",
    "import time\n"
   ]
  },
  {
   "cell_type": "code",
   "execution_count": 2,
   "metadata": {},
   "outputs": [
    {
     "name": "stdout",
     "output_type": "stream",
     "text": [
      "1.5.0\n",
      "10.2\n"
     ]
    }
   ],
   "source": [
    "print(torch.__version__)\n",
    "print(torch.version.cuda)"
   ]
  },
  {
   "cell_type": "code",
   "execution_count": 3,
   "metadata": {},
   "outputs": [],
   "source": [
    "def PrintResults(predictions, actuals):\n",
    "    ynp = predictions.numpy()\n",
    "    testnp = actuals.numpy()\n",
    "    print(\"Class \\t Cases \\t TP \\t FP \\t Precision \\t Recall\")\n",
    "    allcases = 0\n",
    "    allTP = 0\n",
    "    allFP = 0\n",
    "    for i in range(0,6):\n",
    "        cases = sum(testnp==i)\n",
    "        allcases += cases\n",
    "        TP = sum((ynp==i) & (testnp==i))\n",
    "        allTP += TP\n",
    "        FP = sum((ynp==i) & (testnp!=i))\n",
    "        allFP += FP\n",
    "        Precision = TP / (TP + FP + 0.000000001)\n",
    "        Recall = TP / cases\n",
    "        print(i, \"\\t\", cases, \"\\t\" ,TP, \"\\t\", FP, \"\\t\", round(Precision, 3), \"\\t\", \"\\t\", round(Recall, 3))\n",
    "    Precision = allTP / (allTP + allFP + 0.000000001)\n",
    "    Recall = allTP / allcases\n",
    "    print(\"Total\", \"\\t\", allcases, \"\\t\" ,allTP, \"\\t\", allFP, \"\\t\", round(Precision, 3), \"\\t\", \"\\t\", round(Recall, 3))\n",
    "    "
   ]
  },
  {
   "cell_type": "code",
   "execution_count": 4,
   "metadata": {},
   "outputs": [],
   "source": [
    "def Check(Xvals, Yactuals, model):\n",
    "    predictraw = model(Xvals.to(device)).detach().cpu()\n",
    "    predict = np.argmax(predictraw, axis=-1)\n",
    "    predict_score = predict == Yactuals\n",
    "    correct = np.sum(predict_score.numpy(), axis=-1)\n",
    "    sumtot = predict_score.shape[0]\n",
    "    score = correct / sumtot\n",
    "    return (predict, score)"
   ]
  },
  {
   "cell_type": "code",
   "execution_count": 205,
   "metadata": {},
   "outputs": [
    {
     "data": {
      "text/plain": [
       "<function matplotlib.pyplot.show(*args, **kw)>"
      ]
     },
     "execution_count": 205,
     "metadata": {},
     "output_type": "execute_result"
    },
    {
     "data": {
      "image/png": "[encoded data removed]",
      "text/plain": [
       "<Figure size 432x288 with 1 Axes>"
      ]
     },
     "metadata": {
      "needs_background": "light"
     },
     "output_type": "display_data"
    }
   ],
   "source": [
    "alldata = pd.read_csv(\"sat.all.csv\")\n",
    "traindata = alldata[alldata['TrainTest'] == 'train']\n",
    "testdata = alldata[alldata['TrainTest'] == 'test']\n",
    "\n",
    "distribution = traindata.groupby('Class').count()\n",
    "plt.bar(distribution.index.values,distribution.iloc[:,0])\n",
    "plt.xlabel('Classes')\n",
    "plt.ylabel('Occurences')\n",
    "plt.title('Class Distributions in Train Data')\n",
    "plt.show"
   ]
  },
  {
   "cell_type": "code",
   "execution_count": 204,
   "metadata": {},
   "outputs": [],
   "source": [
    "seed = 7\n",
    "train, validate = train_test_split(traindata, test_size=0.2, random_state=seed, stratify=traindata['Class'], shuffle=True)\n",
    "\n",
    "trainX = train.iloc[:,0:36].to_numpy()\n",
    "trainY= train.iloc[:,36].to_numpy()\n",
    "\n",
    "valX = validate.iloc[:,0:36].to_numpy()\n",
    "valY= validate.iloc[:,36].to_numpy()\n",
    "\n",
    "testX = testdata.iloc[:,0:36].to_numpy()\n",
    "testY = testdata.iloc[:,36].to_numpy()\n",
    "\n",
    "for i in range(1,8):\n",
    "    trainY[trainY==i] = i-1\n",
    "    valY[valY==i] = i-1\n",
    "    testY[testY==i] = i-1\n",
    "\n",
    "trainY[trainY==6] = 5\n",
    "valY[valY==6] = 5\n",
    "testY[testY==6] = 5"
   ]
  },
  {
   "cell_type": "code",
   "execution_count": 206,
   "metadata": {},
   "outputs": [],
   "source": [
    "#scaler = MinMaxScaler(feature_range=(0, 1))\n",
    "scaler = StandardScaler()\n",
    "scalerFunc = scaler.fit(trainX)\n",
    "\n",
    "trainX = scalerFunc.transform(trainX)\n",
    "valX = scalerFunc.transform(valX)\n",
    "testX = scalerFunc.transform(testX)\n",
    "\n",
    "#for i in range(0,36):\n",
    "#    print(' Feature {} \\t Train: {:.6f} {:.6f} Validation: {:.6f} {:.6f} Test: {:.6f} {:.6f}'.format(\n",
    "#          i,\n",
    "#          min(trainX[:,i]),max(trainX[:,i]),\n",
    "#          min(valX[:,i]),max(valX[:,i]),\n",
    "#          min(testX[:,i]),max(testX[:,i])))"
   ]
  },
  {
   "cell_type": "code",
   "execution_count": 93,
   "metadata": {},
   "outputs": [],
   "source": [
    "trainX_tensor = torch.from_numpy(trainX).float()\n",
    "trainY_tensor = torch.from_numpy(trainY).float()\n",
    "\n",
    "valX_tensor = torch.from_numpy(valX).float()\n",
    "valY_tensor = torch.from_numpy(valY).float()\n",
    "\n",
    "testX_tensor = torch.from_numpy(testX).float()\n",
    "testY_tensor = torch.from_numpy(testY).float()\n"
   ]
  },
  {
   "cell_type": "code",
   "execution_count": 140,
   "metadata": {},
   "outputs": [],
   "source": [
    "class wame(Optimizer):\n",
    "\n",
    "\n",
    "    def __init__(self, params,lr=1e-3, alpha=0.9, etas=(0.1, 1.2), zetas=(0.01, 100), epsilon=1e-10, debug=False ):\n",
    "        if not 0.0 <= lr:\n",
    "            raise ValueError(\"Invalid learning rate: {}\".format(lr))\n",
    "        if not 0.0 <= alpha:\n",
    "            raise ValueError(\"Invalid learning rate: {}\".format(alpha))\n",
    "        if not 0.0 < etas[0] < 1.0 < etas[1]:\n",
    "            raise ValueError(\"Invalid eta values: {}, {}\".format(etas[0], etas[1]))\n",
    "\n",
    "        defaults = dict(alpha=alpha, etas=etas, zetas=zetas, lr=lr, epsilon=epsilon, debug=debug)\n",
    "        super(wame, self).__init__(params, defaults)\n",
    "\n",
    "    @torch.no_grad()\n",
    "    def step(self, closure=None):\n",
    "        loss = None\n",
    "        if closure is not None:\n",
    "            loss = closure()\n",
    "   \n",
    "        for group in self.param_groups:    \n",
    "            etaminus, etaplus = group['etas']\n",
    "            zeta_min, zeta_max = group['zetas']\n",
    "            alpha = group['alpha']\n",
    "            lr = group['lr']\n",
    "            epsilon = group['epsilon']\n",
    "            debug = group['debug']\n",
    "            _p = 0\n",
    "\n",
    "            for p in group['params']:\n",
    "                if p.grad is None:\n",
    "                    continue\n",
    "                grad = p.grad.data\n",
    "                if grad.is_sparse:\n",
    "                    raise RuntimeError('wame does not support sparse gradients')\n",
    "                state = self.state[p]\n",
    "\n",
    "                # State initialization\n",
    "                if len(state) == 0:\n",
    "                    state['step'] = 0\n",
    "                    state['prev'] = torch.ones_like(p.data, memory_format=torch.preserve_format)\n",
    "                    state['prev'] = grad\n",
    "                    state['Theta'] = torch.zeros_like(p.data, memory_format=torch.preserve_format)\n",
    "                    state['Z'] = torch.zeros_like(p.data, memory_format=torch.preserve_format)\n",
    "                    state['zeta'] = torch.ones_like(p.data, memory_format=torch.preserve_format)\n",
    "                    state['gradmult'] = torch.zeros_like(p.data, memory_format=torch.preserve_format)\n",
    "                    \n",
    "                    state['step_size'] = grad.new().resize_as_(grad).fill_(group['lr']) ### check on initialisation\n",
    "                    state['prev'] = grad\n",
    "                    \n",
    "                if (_p == 0) & debug:\n",
    "                    print(\"Weights at start: \",p.data.sum(), p.data.size())\n",
    "                step_size = state['step_size']\n",
    "                Theta = state['Theta']\n",
    "                Z = state['Z']\n",
    "                zeta = state['zeta']\n",
    "                gradmult = state['gradmult']                    \n",
    "                \n",
    "                state['step'] += 1\n",
    "\n",
    "                gradmult = grad.mul(state['prev'])\n",
    "                zeta[gradmult.gt(0.)] = zeta[gradmult.gt(0.)].mul(etaplus).clamp(zeta_min, zeta_max)\n",
    "                zeta[gradmult.lt(0.)] = zeta[gradmult.lt(0.)].mul(etaminus).clamp(zeta_min, zeta_max)\n",
    "                zeta[gradmult.eq(0.)] = 1\n",
    "                \n",
    "                Z = Z.mul(alpha).add(zeta.mul(1 - alpha))\n",
    "                Theta = Theta.mul(alpha).add(grad.mul(grad).mul(1 - alpha))\n",
    "\n",
    "                step_size = Z.mul(-lr).mul(grad).div(Theta.add(epsilon))\n",
    "\n",
    "                grad = grad.clone(memory_format=torch.preserve_format)\n",
    "                \n",
    "                # update parameters\n",
    "                p.data = p.data.add(step_size)\n",
    "                \n",
    "                if (_p == 0) & debug:\n",
    "                    print(\"Step number \", state['step'])\n",
    "                    print(\"Weights after update: \",p.data.sum(), p.data.size())\n",
    "                    print(\"Updates applied: \",step_size.sum(), step_size.size())\n",
    "                    print(\"Theta: \",Theta.sum())\n",
    "                    print(\"Z: \",Z.sum())\n",
    "                    print(\"zeta: \",zeta.sum())\n",
    "                    print(\"grad: \",grad.sum())\n",
    "                    print(\"grad_sqd\", grad_sqd.sum())\n",
    "                    print(\"gradmult\", gradmult.sum())\n",
    "                state['prev'] = grad\n",
    "                \n",
    "                _p = _p + 1\n",
    "\n",
    "        return loss\n"
   ]
  },
  {
   "cell_type": "code",
   "execution_count": 238,
   "metadata": {},
   "outputs": [],
   "source": [
    "in_features = 36\n",
    "out_classes = 6\n",
    "\n",
    "class TestModel(Module):\n",
    "    def __init__(self, num_units=in_features*2):\n",
    "        super(TestModel, self).__init__()\n",
    "        self.fc1 = nn.Linear(in_features, num_units)\n",
    "        self.relu1 = nn.ReLU()\n",
    "        self.fc2 = nn.Linear(num_units, out_classes*2)\n",
    "        self.relu2 = nn.ReLU()\n",
    "        self.fc3 = nn.Linear(out_classes*2, out_classes)\n",
    "\n",
    "    def forward(self, x):\n",
    "        y = self.fc1(x)\n",
    "        y = self.relu1(y)\n",
    "        y = self.fc2(y)\n",
    "        y = self.relu2(y)\n",
    "        y = self.fc3(y)\n",
    "        return y"
   ]
  },
  {
   "cell_type": "code",
   "execution_count": 239,
   "metadata": {},
   "outputs": [
    {
     "name": "stdout",
     "output_type": "stream",
     "text": [
      "DataParallel(\n",
      "  (module): TestModel(\n",
      "    (fc1): Linear(in_features=36, out_features=72, bias=True)\n",
      "    (relu1): ReLU()\n",
      "    (fc2): Linear(in_features=72, out_features=12, bias=True)\n",
      "    (relu2): ReLU()\n",
      "    (fc3): Linear(in_features=12, out_features=6, bias=True)\n",
      "  )\n",
      ")\n"
     ]
    }
   ],
   "source": [
    "if torch.cuda.is_available():\n",
    "    model = torch.nn.DataParallel(TestModel()).cuda()\n",
    "    device = torch.device(\"cuda\")\n",
    "else:\n",
    "    model = TestModel()\n",
    "    device = torch.device(\"cpu\")\n",
    "    \n",
    "print(model)"
   ]
  },
  {
   "cell_type": "code",
   "execution_count": 240,
   "metadata": {},
   "outputs": [],
   "source": [
    "batch_size = 512\n",
    "optName = \"Adam\"\n",
    "\n",
    "if optName == \"Wame\":\n",
    "    opt = wame(model.parameters(), lr=1e-6)\n",
    "if optName == \"SGD\":\n",
    "    opt = SGD(model.parameters(), lr=1e-1)\n",
    "if optName == \"Adam\":\n",
    "    opt = Adam(model.parameters(), lr=1e-2)\n",
    "\n",
    "loss = CrossEntropyLoss().to(device)\n",
    "epochs = 200\n",
    "\n",
    "\n",
    "trainXY_tensor = TensorDataset(trainX_tensor, trainY_tensor)\n",
    "train_loader = DataLoader(trainXY_tensor, batch_size=batch_size)"
   ]
  },
  {
   "cell_type": "code",
   "execution_count": 241,
   "metadata": {
    "scrolled": true
   },
   "outputs": [
    {
     "name": "stdout",
     "output_type": "stream",
     "text": [
      "epoch: 1 \t accuracy: 0.755355 error: 0.845904 validation accuracy: 0.757610 time 0.056s\n",
      "epoch: 2 \t accuracy: 0.840474 error: 0.502967 validation accuracy: 0.845547 time 0.039s\n",
      "epoch: 3 \t accuracy: 0.836809 error: 0.429974 validation accuracy: 0.838782 time 0.037s\n",
      "epoch: 4 \t accuracy: 0.850902 error: 0.382137 validation accuracy: 0.843292 time 0.036s\n",
      "epoch: 5 \t accuracy: 0.856257 error: 0.361854 validation accuracy: 0.848929 time 0.032s\n",
      "epoch: 6 \t accuracy: 0.858230 error: 0.342835 validation accuracy: 0.851184 time 0.042s\n",
      "epoch: 7 \t accuracy: 0.862176 error: 0.329928 validation accuracy: 0.862458 time 0.041s\n",
      "epoch: 8 \t accuracy: 0.866685 error: 0.321110 validation accuracy: 0.855693 time 0.035s\n",
      "epoch: 9 \t accuracy: 0.872041 error: 0.312464 validation accuracy: 0.856821 time 0.034s\n",
      "epoch: 10 \t accuracy: 0.875423 error: 0.303442 validation accuracy: 0.852311 time 0.036s\n",
      "epoch: 11 \t accuracy: 0.880214 error: 0.292462 validation accuracy: 0.868095 time 0.033s\n",
      "epoch: 12 \t accuracy: 0.884724 error: 0.283120 validation accuracy: 0.868095 time 0.043s\n",
      "epoch: 13 \t accuracy: 0.890361 error: 0.272545 validation accuracy: 0.873732 time 0.043s\n",
      "epoch: 14 \t accuracy: 0.897125 error: 0.262849 validation accuracy: 0.877114 time 0.045s\n",
      "epoch: 15 \t accuracy: 0.900789 error: 0.253963 validation accuracy: 0.881623 time 0.041s\n",
      "epoch: 16 \t accuracy: 0.905017 error: 0.244960 validation accuracy: 0.879369 time 0.043s\n",
      "epoch: 17 \t accuracy: 0.907272 error: 0.236742 validation accuracy: 0.878241 time 0.043s\n",
      "epoch: 18 \t accuracy: 0.908963 error: 0.229353 validation accuracy: 0.875986 time 0.068s\n",
      "epoch: 19 \t accuracy: 0.912063 error: 0.222504 validation accuracy: 0.874859 time 0.034s\n",
      "epoch: 20 \t accuracy: 0.914600 error: 0.216958 validation accuracy: 0.873732 time 0.032s\n",
      "epoch: 21 \t accuracy: 0.915163 error: 0.211940 validation accuracy: 0.868095 time 0.032s\n",
      "epoch: 22 \t accuracy: 0.917136 error: 0.207716 validation accuracy: 0.872604 time 0.034s\n",
      "epoch: 23 \t accuracy: 0.918828 error: 0.203646 validation accuracy: 0.873732 time 0.035s\n",
      "epoch: 24 \t accuracy: 0.921646 error: 0.197997 validation accuracy: 0.873732 time 0.044s\n",
      "epoch: 25 \t accuracy: 0.926719 error: 0.190534 validation accuracy: 0.873732 time 0.044s\n",
      "epoch: 26 \t accuracy: 0.929820 error: 0.183990 validation accuracy: 0.879369 time 0.033s\n",
      "epoch: 27 \t accuracy: 0.929820 error: 0.182236 validation accuracy: 0.881623 time 0.037s\n",
      "epoch: 28 \t accuracy: 0.930101 error: 0.181208 validation accuracy: 0.883878 time 0.032s\n",
      "epoch: 29 \t accuracy: 0.933484 error: 0.173273 validation accuracy: 0.881623 time 0.033s\n",
      "epoch: 30 \t accuracy: 0.934611 error: 0.168288 validation accuracy: 0.881623 time 0.037s\n",
      "epoch: 31 \t accuracy: 0.932638 error: 0.169018 validation accuracy: 0.875986 time 0.036s\n",
      "epoch: 32 \t accuracy: 0.936584 error: 0.169004 validation accuracy: 0.877114 time 0.042s\n",
      "epoch: 33 \t accuracy: 0.937148 error: 0.168026 validation accuracy: 0.878241 time 0.042s\n",
      "epoch: 34 \t accuracy: 0.938557 error: 0.159912 validation accuracy: 0.878241 time 0.043s\n",
      "epoch: 35 \t accuracy: 0.940248 error: 0.154865 validation accuracy: 0.877114 time 0.032s\n",
      "epoch: 36 \t accuracy: 0.941375 error: 0.150750 validation accuracy: 0.881623 time 0.040s\n",
      "epoch: 37 \t accuracy: 0.940812 error: 0.149039 validation accuracy: 0.887260 time 0.044s\n",
      "epoch: 38 \t accuracy: 0.943348 error: 0.145340 validation accuracy: 0.883878 time 0.044s\n",
      "epoch: 39 \t accuracy: 0.944476 error: 0.141483 validation accuracy: 0.883878 time 0.043s\n",
      "epoch: 40 \t accuracy: 0.945885 error: 0.138673 validation accuracy: 0.883878 time 0.041s\n",
      "epoch: 41 \t accuracy: 0.949267 error: 0.136686 validation accuracy: 0.883878 time 0.044s\n",
      "epoch: 42 \t accuracy: 0.948422 error: 0.136340 validation accuracy: 0.883878 time 0.044s\n",
      "epoch: 43 \t accuracy: 0.947294 error: 0.137424 validation accuracy: 0.883878 time 0.043s\n",
      "epoch: 44 \t accuracy: 0.946167 error: 0.137334 validation accuracy: 0.880496 time 0.032s\n",
      "epoch: 45 \t accuracy: 0.946731 error: 0.136580 validation accuracy: 0.880496 time 0.032s\n",
      "epoch: 46 \t accuracy: 0.945603 error: 0.135766 validation accuracy: 0.877114 time 0.034s\n",
      "epoch: 47 \t accuracy: 0.947012 error: 0.134165 validation accuracy: 0.874859 time 0.034s\n",
      "epoch: 48 \t accuracy: 0.951522 error: 0.128459 validation accuracy: 0.878241 time 0.047s\n",
      "epoch: 49 \t accuracy: 0.952086 error: 0.123001 validation accuracy: 0.887260 time 0.042s\n",
      "epoch: 50 \t accuracy: 0.955750 error: 0.117801 validation accuracy: 0.880496 time 0.041s\n",
      "epoch: 51 \t accuracy: 0.956877 error: 0.115148 validation accuracy: 0.878241 time 0.044s\n",
      "epoch: 52 \t accuracy: 0.956032 error: 0.116961 validation accuracy: 0.879369 time 0.034s\n",
      "epoch: 53 \t accuracy: 0.953777 error: 0.117524 validation accuracy: 0.881623 time 0.045s\n",
      "epoch: 54 \t accuracy: 0.957441 error: 0.113227 validation accuracy: 0.883878 time 0.032s\n",
      "epoch: 55 \t accuracy: 0.958568 error: 0.109338 validation accuracy: 0.886133 time 0.031s\n",
      "epoch: 56 \t accuracy: 0.958005 error: 0.105506 validation accuracy: 0.887260 time 0.034s\n",
      "epoch: 57 \t accuracy: 0.961669 error: 0.101396 validation accuracy: 0.888388 time 0.031s\n",
      "epoch: 58 \t accuracy: 0.963078 error: 0.101148 validation accuracy: 0.887260 time 0.032s\n",
      "epoch: 59 \t accuracy: 0.961669 error: 0.098174 validation accuracy: 0.886133 time 0.036s\n",
      "epoch: 60 \t accuracy: 0.965896 error: 0.093637 validation accuracy: 0.888388 time 0.031s\n",
      "epoch: 61 \t accuracy: 0.966460 error: 0.095562 validation accuracy: 0.886133 time 0.031s\n",
      "epoch: 62 \t accuracy: 0.966460 error: 0.096327 validation accuracy: 0.886133 time 0.033s\n",
      "epoch: 63 \t accuracy: 0.963641 error: 0.098313 validation accuracy: 0.887260 time 0.057s\n",
      "epoch: 64 \t accuracy: 0.963641 error: 0.099803 validation accuracy: 0.887260 time 0.035s\n",
      "epoch: 65 \t accuracy: 0.966460 error: 0.098871 validation accuracy: 0.882751 time 0.034s\n",
      "epoch: 66 \t accuracy: 0.966178 error: 0.094057 validation accuracy: 0.883878 time 0.032s\n",
      "epoch: 67 \t accuracy: 0.964205 error: 0.093827 validation accuracy: 0.878241 time 0.043s\n",
      "epoch: 68 \t accuracy: 0.963078 error: 0.099534 validation accuracy: 0.877114 time 0.038s\n",
      "epoch: 69 \t accuracy: 0.964487 error: 0.096186 validation accuracy: 0.875986 time 0.037s\n",
      "epoch: 70 \t accuracy: 0.968151 error: 0.083281 validation accuracy: 0.886133 time 0.046s\n",
      "epoch: 71 \t accuracy: 0.967869 error: 0.082137 validation accuracy: 0.887260 time 0.035s\n",
      "epoch: 72 \t accuracy: 0.972379 error: 0.075726 validation accuracy: 0.890643 time 0.042s\n",
      "epoch: 73 \t accuracy: 0.967869 error: 0.089348 validation accuracy: 0.885006 time 0.042s\n",
      "epoch: 74 \t accuracy: 0.969560 error: 0.084684 validation accuracy: 0.883878 time 0.040s\n",
      "epoch: 75 \t accuracy: 0.972379 error: 0.077587 validation accuracy: 0.887260 time 0.035s\n",
      "epoch: 76 \t accuracy: 0.976607 error: 0.067767 validation accuracy: 0.883878 time 0.034s\n",
      "epoch: 77 \t accuracy: 0.974070 error: 0.074359 validation accuracy: 0.888388 time 0.045s\n",
      "epoch: 78 \t accuracy: 0.976888 error: 0.064587 validation accuracy: 0.886133 time 0.042s\n",
      "epoch: 79 \t accuracy: 0.975197 error: 0.064100 validation accuracy: 0.888388 time 0.040s\n",
      "epoch: 80 \t accuracy: 0.978016 error: 0.071909 validation accuracy: 0.894025 time 0.043s\n",
      "epoch: 81 \t accuracy: 0.976607 error: 0.065825 validation accuracy: 0.886133 time 0.040s\n",
      "epoch: 82 \t accuracy: 0.977452 error: 0.063934 validation accuracy: 0.888388 time 0.046s\n",
      "epoch: 83 \t accuracy: 0.979707 error: 0.061728 validation accuracy: 0.891770 time 0.038s\n",
      "epoch: 84 \t accuracy: 0.981116 error: 0.058859 validation accuracy: 0.891770 time 0.034s\n",
      "epoch: 85 \t accuracy: 0.981680 error: 0.054875 validation accuracy: 0.892897 time 0.044s\n",
      "epoch: 86 \t accuracy: 0.983371 error: 0.053747 validation accuracy: 0.889515 time 0.079s\n",
      "epoch: 87 \t accuracy: 0.981680 error: 0.052227 validation accuracy: 0.891770 time 0.041s\n",
      "epoch: 88 \t accuracy: 0.980552 error: 0.054762 validation accuracy: 0.891770 time 0.040s\n",
      "epoch: 89 \t accuracy: 0.983089 error: 0.052441 validation accuracy: 0.887260 time 0.043s\n",
      "epoch: 90 \t accuracy: 0.983089 error: 0.050581 validation accuracy: 0.894025 time 0.035s\n",
      "epoch: 91 \t accuracy: 0.984216 error: 0.047667 validation accuracy: 0.886133 time 0.040s\n",
      "epoch: 92 \t accuracy: 0.985908 error: 0.046174 validation accuracy: 0.888388 time 0.046s\n",
      "epoch: 93 \t accuracy: 0.986189 error: 0.044302 validation accuracy: 0.891770 time 0.039s\n",
      "epoch: 94 \t accuracy: 0.986471 error: 0.044328 validation accuracy: 0.894025 time 0.036s\n",
      "epoch: 95 \t accuracy: 0.987317 error: 0.041935 validation accuracy: 0.887260 time 0.035s\n",
      "epoch: 96 \t accuracy: 0.987035 error: 0.043138 validation accuracy: 0.895152 time 0.039s\n",
      "epoch: 97 \t accuracy: 0.988726 error: 0.040127 validation accuracy: 0.888388 time 0.042s\n",
      "epoch: 98 \t accuracy: 0.986471 error: 0.040545 validation accuracy: 0.894025 time 0.040s\n",
      "epoch: 99 \t accuracy: 0.987035 error: 0.039023 validation accuracy: 0.894025 time 0.044s\n",
      "epoch: 100 \t accuracy: 0.988162 error: 0.039886 validation accuracy: 0.890643 time 0.040s\n",
      "epoch: 101 \t accuracy: 0.988726 error: 0.036734 validation accuracy: 0.895152 time 0.043s\n",
      "epoch: 102 \t accuracy: 0.987035 error: 0.039705 validation accuracy: 0.890643 time 0.040s\n",
      "epoch: 103 \t accuracy: 0.990981 error: 0.034113 validation accuracy: 0.891770 time 0.040s\n",
      "Overall time 4.073 seconds\n"
     ]
    }
   ],
   "source": [
    "time0 = time.perf_counter()\n",
    "time00 = time0\n",
    "torch.manual_seed(7)\n",
    "\n",
    "accuracies = []\n",
    "validations = []\n",
    "errors = []\n",
    "\n",
    "train_score = 0\n",
    "epoch = 0\n",
    "accuracy_change = 100\n",
    "prev_accuracy = 0\n",
    "\n",
    "while ((epoch < epochs) & (train_score < 0.99) ):\n",
    "    batch = 0\n",
    "    for idx, (train_x, train_label) in enumerate(train_loader):\n",
    "        train_x = train_x.to(device)\n",
    "        train_label = train_label.to(device)\n",
    "        opt.zero_grad()\n",
    "        predict_y = model(train_x)\n",
    "        error = loss(predict_y, train_label.long())\n",
    "        error.backward()\n",
    "        opt.step()\n",
    "\n",
    "        batch = batch + 1\n",
    "    \n",
    "\n",
    "    train_pred, train_score = Check(trainX_tensor, trainY_tensor, model)\n",
    "    error = loss(model(trainX_tensor), trainY_tensor.to(device).long())\n",
    "    val_pred, val_score = Check(valX_tensor, valY_tensor, model)\n",
    "\n",
    "    time1 = time.perf_counter()\n",
    "    print('epoch: {} \\t accuracy: {:.6f} error: {:.6f} validation accuracy: {:.6f} time {:.3f}s'.format(\n",
    "        epoch + 1, train_score, error, val_score, time1 - time0))\n",
    "    time0 = time1\n",
    "    accuracies.append(train_score)\n",
    "    validations.append(val_score)\n",
    "    errors.append(error)\n",
    "    \n",
    "    accuracy_change = train_score - prev_accuracy\n",
    "    prev_accuracy = train_score\n",
    "    \n",
    "    epoch += 1\n",
    "    \n",
    "time01 = time.perf_counter()\n",
    "print('Overall time {:.3f} seconds'.format(time01 - time00))"
   ]
  },
  {
   "cell_type": "code",
   "execution_count": 242,
   "metadata": {},
   "outputs": [
    {
     "name": "stdout",
     "output_type": "stream",
     "text": [
      "Class \t Cases \t TP \t FP \t Precision \t Recall\n",
      "0 \t 858 \t 858 \t 0 \t 1.0 \t \t 1.0\n",
      "1 \t 383 \t 383 \t 0 \t 1.0 \t \t 1.0\n",
      "2 \t 769 \t 762 \t 11 \t 0.986 \t \t 0.991\n",
      "3 \t 332 \t 318 \t 14 \t 0.958 \t \t 0.958\n",
      "4 \t 376 \t 375 \t 1 \t 0.997 \t \t 0.997\n",
      "5 \t 830 \t 820 \t 6 \t 0.993 \t \t 0.988\n",
      "Total \t 3548 \t 3516 \t 32 \t 0.991 \t \t 0.991\n"
     ]
    }
   ],
   "source": [
    "PrintResults(train_pred, trainY_tensor)"
   ]
  },
  {
   "cell_type": "code",
   "execution_count": 243,
   "metadata": {},
   "outputs": [
    {
     "data": {
      "image/png": "[encoded data removed]",
      "text/plain": [
       "<Figure size 432x288 with 1 Axes>"
      ]
     },
     "metadata": {
      "needs_background": "light"
     },
     "output_type": "display_data"
    }
   ],
   "source": [
    "plotrange = epoch\n",
    "\n",
    "plt.plot(range(plotrange), accuracies[0:plotrange], color='green')\n",
    "plt.plot(range(plotrange), validations[0:plotrange], color='blue')\n",
    "plt.plot(range(plotrange), errors[0:plotrange], color='r')\n",
    "title = \"Optimizer {} reached accuracy {:.3f} in {:.2f} seconds\".format(optName, train_score, time01 - time00)\n",
    "plt.xlabel('Epochs')\n",
    "plt.ylabel('Accuracy, Validation and Error')\n",
    "plt.title(title)\n",
    "plt.show()"
   ]
  },
  {
   "cell_type": "code",
   "execution_count": 235,
   "metadata": {},
   "outputs": [
    {
     "name": "stdout",
     "output_type": "stream",
     "text": [
      "Class \t Cases \t TP \t FP \t Precision \t Recall\n",
      "0 \t 214 \t 208 \t 5 \t 0.977 \t \t 0.972\n",
      "1 \t 96 \t 92 \t 2 \t 0.979 \t \t 0.958\n",
      "2 \t 192 \t 166 \t 16 \t 0.912 \t \t 0.865\n",
      "3 \t 83 \t 54 \t 30 \t 0.643 \t \t 0.651\n",
      "4 \t 94 \t 81 \t 15 \t 0.844 \t \t 0.862\n",
      "5 \t 208 \t 186 \t 32 \t 0.853 \t \t 0.894\n",
      "Total \t 887 \t 787 \t 100 \t 0.887 \t \t 0.887\n"
     ]
    }
   ],
   "source": [
    "PrintResults(val_pred, valY_tensor)"
   ]
  },
  {
   "cell_type": "code",
   "execution_count": 236,
   "metadata": {},
   "outputs": [],
   "source": [
    "predict_ys, _ = Check(testX_tensor, testY_tensor, model)"
   ]
  },
  {
   "cell_type": "code",
   "execution_count": 237,
   "metadata": {},
   "outputs": [
    {
     "name": "stdout",
     "output_type": "stream",
     "text": [
      "Class \t Cases \t TP \t FP \t Precision \t Recall\n",
      "0 \t 461 \t 455 \t 15 \t 0.968 \t \t 0.987\n",
      "1 \t 224 \t 216 \t 8 \t 0.964 \t \t 0.964\n",
      "2 \t 397 \t 341 \t 30 \t 0.919 \t \t 0.859\n",
      "3 \t 211 \t 149 \t 72 \t 0.674 \t \t 0.706\n",
      "4 \t 237 \t 212 \t 25 \t 0.895 \t \t 0.895\n",
      "5 \t 470 \t 415 \t 62 \t 0.87 \t \t 0.883\n",
      "Total \t 2000 \t 1788 \t 212 \t 0.894 \t \t 0.894\n"
     ]
    }
   ],
   "source": [
    "PrintResults(predict_ys, testY_tensor)    "
   ]
  },
  {
   "cell_type": "code",
   "execution_count": null,
   "metadata": {},
   "outputs": [],
   "source": []
  }
 ],
 "metadata": {
  "kernelspec": {
   "display_name": "Python 3",
   "language": "python",
   "name": "python3"
  },
  "language_info": {
   "codemirror_mode": {
    "name": "ipython",
    "version": 3
   },
   "file_extension": ".py",
   "mimetype": "text/x-python",
   "name": "python",
   "nbconvert_exporter": "python",
   "pygments_lexer": "ipython3",
   "version": "3.7.3"
  }
 },
 "nbformat": 4,
 "nbformat_minor": 4
}
