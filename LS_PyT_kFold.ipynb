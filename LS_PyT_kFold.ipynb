{
 "cells": [
  {
   "cell_type": "markdown",
   "metadata": {},
   "source": [
    "# Machine Learning- COIY065H7\n",
    "\n",
    "## Coursework, WAME Optimiser Evaluation"
   ]
  },
  {
   "cell_type": "markdown",
   "metadata": {},
   "source": [
    "Load modules for use throughout the workbook"
   ]
  },
  {
   "cell_type": "code",
   "execution_count": 1,
   "metadata": {},
   "outputs": [],
   "source": [
    "import numpy as np\n",
    "import pandas as pd\n",
    "import torch\n",
    "from torch import nn\n",
    "from torch.nn import CrossEntropyLoss\n",
    "from torch.nn import Module\n",
    "from torch.optim import *\n",
    "from torch.optim.optimizer import Optimizer\n",
    "from torch.utils.data import DataLoader\n",
    "from torch.utils.data import TensorDataset\n",
    "from torchvision.transforms import ToTensor\n",
    "from torchsummary import summary\n",
    "from sklearn.preprocessing import MinMaxScaler\n",
    "from sklearn.preprocessing import StandardScaler\n",
    "from sklearn.model_selection import train_test_split\n",
    "from sklearn.model_selection import KFold\n",
    "from matplotlib import pyplot as plt\n",
    "%matplotlib inline\n",
    "\n",
    "import time\n"
   ]
  },
  {
   "cell_type": "markdown",
   "metadata": {},
   "source": [
    "Verify versions of ML libraries being used"
   ]
  },
  {
   "cell_type": "code",
   "execution_count": 2,
   "metadata": {},
   "outputs": [
    {
     "name": "stdout",
     "output_type": "stream",
     "text": [
      "1.5.0\n",
      "10.2\n"
     ]
    }
   ],
   "source": [
    "print(torch.__version__)\n",
    "print(torch.version.cuda)"
   ]
  },
  {
   "cell_type": "markdown",
   "metadata": {},
   "source": [
    "## Routines to be used \n",
    "\n",
    "PrintResults will output a table of Precision and Recall for each class"
   ]
  },
  {
   "cell_type": "code",
   "execution_count": 3,
   "metadata": {},
   "outputs": [],
   "source": [
    "def PrintResults(predictions, actuals):\n",
    "    ynp = predictions.numpy()\n",
    "    testnp = actuals.numpy()\n",
    "    print(\"Class \\t Cases \\t TP \\t FP \\t Precision \\t Recall\")\n",
    "    allcases = 0\n",
    "    allTP = 0\n",
    "    allFP = 0\n",
    "    for i in range(0,6):\n",
    "        cases = sum(testnp==i)\n",
    "        allcases += cases\n",
    "        TP = sum((ynp==i) & (testnp==i))\n",
    "        allTP += TP\n",
    "        FP = sum((ynp==i) & (testnp!=i))\n",
    "        allFP += FP\n",
    "        Precision = TP / (TP + FP + 0.000000001)\n",
    "        Recall = TP / cases\n",
    "        print(i, \"\\t\", cases, \"\\t\" ,TP, \"\\t\", FP, \"\\t\", round(Precision, 3), \"\\t\", \"\\t\", round(Recall, 3))\n",
    "    Precision = allTP / (allTP + allFP + 0.000000001)\n",
    "    Recall = allTP / allcases\n",
    "    print(\"Total\", \"\\t\", allcases, \"\\t\" ,allTP, \"\\t\", allFP, \"\\t\", round(Precision, 3), \"\\t\", \"\\t\", round(Recall, 3))\n",
    "    "
   ]
  },
  {
   "cell_type": "markdown",
   "metadata": {},
   "source": [
    "Check returns the class predictions and accuracy score of a model"
   ]
  },
  {
   "cell_type": "code",
   "execution_count": 4,
   "metadata": {},
   "outputs": [],
   "source": [
    "def Check(Xvals, Yactuals, model):\n",
    "    predictraw = model(Xvals.to(device)).detach().cpu()\n",
    "    predict = np.argmax(predictraw, axis=-1)\n",
    "    predict_score = predict == Yactuals\n",
    "    correct = np.sum(predict_score.numpy(), axis=-1)\n",
    "    sumtot = predict_score.shape[0]\n",
    "    score = correct / sumtot\n",
    "    return (predict, score)"
   ]
  },
  {
   "cell_type": "markdown",
   "metadata": {},
   "source": [
    "## Wame optimizer\n",
    "\n",
    "Logic for the optimiser follows the paper by Mosca, \n",
    "\n",
    "A. Mosca and G. D. Magoulas, ‘Training convolutional networks with weight-wise adaptive learning rates’, in ESANN, 2017.\n",
    "\n",
    "The code for the PyTorch optimizer implementation was adapted from the PyTorch souce code using -\n",
    "\n",
    "PyTorch optimizer class code: https://pytorch.org/docs/stable/optim.html\n",
    "\n",
    "Example of RProp implementation: https://pytorch.org/docs/stable/_modules/torch/optim/rprop.html\n",
    "\n",
    "And guidance on writing a custom optimizer for AdamW: http://mcneela.github.io/machine_learning/2019/09/03/Writing-Your-Own-Optimizers-In-Pytorch.html\n"
   ]
  },
  {
   "cell_type": "code",
   "execution_count": 5,
   "metadata": {},
   "outputs": [],
   "source": [
    "class wame(Optimizer):\n",
    "\n",
    "\n",
    "    def __init__(self, params,lr=1e-3, alpha=0.9, etas=(0.1, 1.2), zetas=(0.01, 100), epsilon=1e-10, debug=False ):\n",
    "        if not 0.0 <= lr:\n",
    "            raise ValueError(\"Invalid learning rate: {}\".format(lr))\n",
    "        if not 0.0 <= alpha:\n",
    "            raise ValueError(\"Invalid learning rate: {}\".format(alpha))\n",
    "        if not 0.0 < etas[0] < 1.0 < etas[1]:\n",
    "            raise ValueError(\"Invalid eta values: {}, {}\".format(etas[0], etas[1]))\n",
    "\n",
    "        defaults = dict(alpha=alpha, etas=etas, zetas=zetas, lr=lr, epsilon=epsilon, debug=debug)\n",
    "        super(wame, self).__init__(params, defaults)\n",
    "\n",
    "    @torch.no_grad()\n",
    "    def step(self, closure=None):\n",
    "        loss = None\n",
    "        if closure is not None:\n",
    "            loss = closure()\n",
    "   \n",
    "        for group in self.param_groups:    \n",
    "            etaminus, etaplus = group['etas']\n",
    "            zeta_min, zeta_max = group['zetas']\n",
    "            alpha = group['alpha']\n",
    "            lr = group['lr']\n",
    "            epsilon = group['epsilon']\n",
    "            debug = group['debug']\n",
    "            _p = 0\n",
    "\n",
    "            for p in group['params']:\n",
    "                if p.grad is None:\n",
    "                    continue\n",
    "                grad = p.grad.data\n",
    "                if grad.is_sparse:\n",
    "                    raise RuntimeError('wame does not support sparse gradients')\n",
    "                state = self.state[p]\n",
    "\n",
    "                # State initialization\n",
    "                if len(state) == 0:\n",
    "                    state['step'] = 0\n",
    "                    state['prev'] = torch.ones_like(p.data, memory_format=torch.preserve_format)\n",
    "                    state['prev'] = grad\n",
    "                    state['Theta'] = torch.zeros_like(p.data, memory_format=torch.preserve_format)\n",
    "                    state['Z'] = torch.zeros_like(p.data, memory_format=torch.preserve_format)\n",
    "                    state['zeta'] = torch.ones_like(p.data, memory_format=torch.preserve_format)\n",
    "                    state['gradmult'] = torch.zeros_like(p.data, memory_format=torch.preserve_format)\n",
    "                    \n",
    "                    state['step_size'] = grad.new().resize_as_(grad).fill_(group['lr']) ### check on initialisation\n",
    "                    state['prev'] = grad\n",
    "                    \n",
    "                if (_p == 0) & debug:\n",
    "                    print(\"Weights at start: \",p.data.sum(), p.data.size())\n",
    "                step_size = state['step_size']\n",
    "                Theta = state['Theta']\n",
    "                Z = state['Z']\n",
    "                zeta = state['zeta']\n",
    "                gradmult = state['gradmult']                    \n",
    "                \n",
    "                state['step'] += 1\n",
    "\n",
    "                gradmult = grad.mul(state['prev'])\n",
    "                zeta[gradmult.gt(0.)] = zeta[gradmult.gt(0.)].mul(etaplus).clamp(zeta_min, zeta_max)\n",
    "                zeta[gradmult.lt(0.)] = zeta[gradmult.lt(0.)].mul(etaminus).clamp(zeta_min, zeta_max)\n",
    "                zeta[gradmult.eq(0.)] = 1\n",
    "                \n",
    "                Z = Z.mul(alpha).add(zeta.mul(1 - alpha))\n",
    "                Theta = Theta.mul(alpha).add(grad.mul(grad).mul(1 - alpha))\n",
    "\n",
    "                step_size = Z.mul(-lr).mul(grad).div(Theta.add(epsilon))\n",
    "\n",
    "                grad = grad.clone(memory_format=torch.preserve_format)\n",
    "                \n",
    "                # update parameters\n",
    "                p.data = p.data.add(step_size)\n",
    "                \n",
    "                if (_p == 0) & debug:\n",
    "                    print(\"Step number \", state['step'])\n",
    "                    print(\"Weights after update: \",p.data.sum(), p.data.size())\n",
    "                    print(\"Updates applied: \",step_size.sum(), step_size.size())\n",
    "                    print(\"Theta: \",Theta.sum())\n",
    "                    print(\"Z: \",Z.sum())\n",
    "                    print(\"zeta: \",zeta.sum())\n",
    "                    print(\"grad: \",grad.sum())\n",
    "                    print(\"grad_sqd\", grad_sqd.sum())\n",
    "                    print(\"gradmult\", gradmult.sum())\n",
    "                state['prev'] = grad\n",
    "                \n",
    "                _p = _p + 1\n",
    "\n",
    "        return loss\n"
   ]
  },
  {
   "cell_type": "code",
   "execution_count": 6,
   "metadata": {},
   "outputs": [
    {
     "data": {
      "text/plain": [
       "<function matplotlib.pyplot.show(*args, **kw)>"
      ]
     },
     "execution_count": 6,
     "metadata": {},
     "output_type": "execute_result"
    },
    {
     "data": {
      "image/png": "[encoded data removed]",
      "text/plain": [
       "<Figure size 432x288 with 1 Axes>"
      ]
     },
     "metadata": {
      "needs_background": "light"
     },
     "output_type": "display_data"
    }
   ],
   "source": [
    "alldata = pd.read_csv(\"sat.all.csv\")\n",
    "traindata = alldata[alldata['TrainTest'] == 'train']\n",
    "testdata = alldata[alldata['TrainTest'] == 'test']\n",
    "\n",
    "distribution = traindata.groupby('Class').count()\n",
    "plt.bar(distribution.index.values,distribution.iloc[:,0])\n",
    "plt.xlabel('Classes')\n",
    "plt.ylabel('Occurences')\n",
    "plt.title('Class Distributions in Train Data')\n",
    "plt.show"
   ]
  },
  {
   "cell_type": "code",
   "execution_count": 7,
   "metadata": {},
   "outputs": [],
   "source": [
    "seed = 7\n",
    "train, validate = train_test_split(traindata, test_size=0.2, random_state=seed, stratify=traindata['Class'], shuffle=True)\n",
    "\n",
    "trainX = traindata.iloc[:,0:36].to_numpy()\n",
    "trainY= traindata.iloc[:,36].to_numpy()\n",
    "\n",
    "testX = testdata.iloc[:,0:36].to_numpy()\n",
    "testY = testdata.iloc[:,36].to_numpy()\n",
    "\n",
    "for i in range(1,8):\n",
    "    trainY[trainY==i] = i-1\n",
    "    testY[testY==i] = i-1\n",
    "\n",
    "trainY[trainY==6] = 5\n",
    "testY[testY==6] = 5"
   ]
  },
  {
   "cell_type": "code",
   "execution_count": 8,
   "metadata": {},
   "outputs": [],
   "source": [
    "scaler = StandardScaler()\n",
    "scalerFunc = scaler.fit(trainX)\n",
    "\n",
    "trainX = scalerFunc.transform(trainX)\n",
    "testX = scalerFunc.transform(testX)\n",
    "\n",
    "testX_tensor = torch.from_numpy(testX).float()\n",
    "testY_tensor = torch.from_numpy(testY).float()\n",
    "\n",
    "#for i in range(0,36):\n",
    "#    print(' Feature {} \\t Train: {:.6f} {:.6f} Validation: {:.6f} {:.6f} Test: {:.6f} {:.6f}'.format(\n",
    "#          i,\n",
    "#          min(trainX[:,i]),max(trainX[:,i]),\n",
    "#          min(valX[:,i]),max(valX[:,i]),\n",
    "#          min(testX[:,i]),max(testX[:,i])))"
   ]
  },
  {
   "cell_type": "code",
   "execution_count": 9,
   "metadata": {},
   "outputs": [],
   "source": [
    "in_features = 36\n",
    "out_classes = 6\n",
    "\n",
    "class TestModel(Module):\n",
    "    def __init__(self, num_units=in_features*2, hidden_layers=4 ):\n",
    "        \n",
    "        self.hidden_layers = hidden_layers\n",
    "        hidden = []\n",
    "        hidden.append(num_units)\n",
    "        for i in range(1,hidden_layers):\n",
    "            hidden.append(max(out_classes*2,int(num_units/2**i)))\n",
    "        \n",
    "        super(TestModel, self).__init__()\n",
    "        self.fc1 = nn.Linear(in_features, hidden[0])\n",
    "\n",
    "        if hidden_layers > 1:\n",
    "            self.relu1 = nn.ReLU()\n",
    "            self.fc2 = nn.Linear(hidden[0], hidden[1])\n",
    "        if hidden_layers > 2:\n",
    "            self.relu2 = nn.ReLU()\n",
    "            self.fc3 = nn.Linear(hidden[1], hidden[2])\n",
    "        if hidden_layers > 3:\n",
    "            self.relu3 = nn.ReLU()\n",
    "            self.fc4 = nn.Linear(hidden[2], hidden[3])\n",
    "        if hidden_layers > 4:\n",
    "            self.relu4 = nn.ReLU()\n",
    "            self.fc5 = nn.Linear(hidden[3], hidden[4])\n",
    "        if hidden_layers > 5:\n",
    "            self.relu5 = nn.ReLU()\n",
    "            self.fc6 = nn.Linear(hidden[4], hidden[5])\n",
    "        \n",
    "        self.reluLast = nn.ReLU()\n",
    "        self.fcLast = nn.Linear(hidden[hidden_layers-1], out_classes)\n",
    "\n",
    "    def forward(self, x):\n",
    "        \n",
    "        hidden_layers = self.hidden_layers\n",
    "        \n",
    "        y = self.fc1(x)\n",
    "\n",
    "        if hidden_layers > 1:\n",
    "            y = self.relu1(y)\n",
    "            y = self.fc2(y)\n",
    "        if hidden_layers > 2:\n",
    "            y = self.relu2(y)\n",
    "            y = self.fc3(y)\n",
    "        if hidden_layers > 3:\n",
    "            y = self.relu3(y)\n",
    "            y = self.fc4(y)\n",
    "        if hidden_layers > 4:\n",
    "            y = self.relu4(y)\n",
    "            y = self.fc5(y)\n",
    "        if hidden_layers > 5:\n",
    "            y = self.relu5(y)\n",
    "            y = self.fc6(y)\n",
    "\n",
    "        y = self.reluLast(y)\n",
    "        y = self.fcLast(y)\n",
    "        \n",
    "        return y"
   ]
  },
  {
   "cell_type": "code",
   "execution_count": 10,
   "metadata": {},
   "outputs": [],
   "source": [
    "def RunModel(model, epochs, trainX, trainY, valX, valY):\n",
    "    accuracies = []\n",
    "    validations = []\n",
    "    errors = []\n",
    "\n",
    "    train_score = 0\n",
    "    epoch = 0\n",
    "\n",
    "    trainXY_tensor = TensorDataset(trainX, trainY)\n",
    "    train_loader = DataLoader(trainXY_tensor, batch_size=batch_size)\n",
    "        \n",
    "    while (epoch < epochs):\n",
    "        batch = 0\n",
    "        for idx, (train_x, train_label) in enumerate(train_loader):\n",
    "            train_x = train_x.to(device)\n",
    "            train_label = train_label.to(device)\n",
    "            opt.zero_grad()\n",
    "            predict_y = model(train_x)\n",
    "            error = loss(predict_y, train_label.long())\n",
    "            error.backward()\n",
    "            opt.step()\n",
    "\n",
    "            batch = batch + 1\n",
    "    \n",
    "\n",
    "        train_pred, train_score = Check(trainX, trainY, model)\n",
    "        error = loss(model(trainX), trainY.to(device).long())\n",
    "        val_pred, val_score = Check(valX, valY, model)\n",
    "\n",
    "        accuracies.append(train_score)\n",
    "        validations.append(val_score)\n",
    "        errors.append(error)\n",
    "    \n",
    "        epoch += 1\n",
    "        \n",
    "    return(accuracies, errors, validations)"
   ]
  },
  {
   "cell_type": "code",
   "execution_count": 11,
   "metadata": {},
   "outputs": [],
   "source": [
    "def RunFolds(nfolds, trainX, trainY, outputrequired):\n",
    "    \n",
    "    fold = 0\n",
    "    torch.save(model.state_dict(),'initial_weights.state')\n",
    "\n",
    "    foldAcc = []\n",
    "    foldVal =  []\n",
    "    foldErr = []\n",
    "\n",
    "    for trainIndex, testIndex in nfolds.split(trainX):\n",
    "    \n",
    "        model.load_state_dict(torch.load('initial_weights.state'))\n",
    "\n",
    "        trainX_tensor = torch.from_numpy(trainX[trainIndex]).float()\n",
    "        trainY_tensor = torch.from_numpy(trainY[trainIndex]).float()\n",
    "\n",
    "        valX_tensor = torch.from_numpy(trainX[testIndex]).float()\n",
    "        valY_tensor = torch.from_numpy(trainY[testIndex]).float()\n",
    "\n",
    "        time00 = time.perf_counter()\n",
    "        torch.manual_seed(7)\n",
    "\n",
    "        acc, val, err = RunModel(model, epochs, trainX_tensor, trainY_tensor, valX_tensor, valY_tensor)\n",
    "    \n",
    "        time01 = time.perf_counter()\n",
    "        train_pred, train_score = Check(trainX_tensor, trainY_tensor, model)\n",
    "        error = loss(model(trainX_tensor), trainY_tensor.to(device).long()).detach().cpu().numpy()\n",
    "        val_pred, val_score = Check(valX_tensor, valY_tensor, model)\n",
    "        if outputrequired:\n",
    "            print('fold: {} \\t accuracy: {:.6f} error: {:.6f} validation accuracy: {:.6f} time {:.3f}s'.format(\n",
    "               fold + 1, train_score, error, val_score, time01 - time00))\n",
    "\n",
    "        foldAcc.append(train_score)\n",
    "        foldVal.append(val_score)\n",
    "        foldErr.append(error)\n",
    "    \n",
    "        fold += 1\n",
    "\n",
    "    return(foldAcc, foldVal, foldErr)"
   ]
  },
  {
   "cell_type": "code",
   "execution_count": 12,
   "metadata": {},
   "outputs": [],
   "source": [
    "indir = './DataForRuns/'\n",
    "infile = 'NumUnits2Adam'\n",
    "allruns = pd.read_csv(indir + infile + \".csv\",sep=\",\")"
   ]
  },
  {
   "cell_type": "code",
   "execution_count": 13,
   "metadata": {},
   "outputs": [
    {
     "data": {
      "text/plain": [
       "[200.0, 2.0, 512.0, 0.01, 100.0, 10.0]"
      ]
     },
     "execution_count": 13,
     "metadata": {},
     "output_type": "execute_result"
    }
   ],
   "source": [
    "allruns.T[0].to_list()"
   ]
  },
  {
   "cell_type": "code",
   "execution_count": 14,
   "metadata": {},
   "outputs": [
    {
     "name": "stdout",
     "output_type": "stream",
     "text": [
      "Executing run number 0\n",
      "Using 2 hidden_layers with 200 units in first layer. Batch size of 512 for 100 epochs. 10 folds. Learning rate 1.0e-02\n",
      "\n",
      "Results Accuracy: mean 0.924 std 0.020 Validation Accuracy: mean 0.892 std 0.023 Runtime 20.57 seconds\n",
      "\n",
      "\n",
      "Executing run number 1\n",
      "Using 2 hidden_layers with 150 units in first layer. Batch size of 512 for 100 epochs. 10 folds. Learning rate 1.0e-02\n",
      "\n",
      "Results Accuracy: mean 0.932 std 0.006 Validation Accuracy: mean 0.900 std 0.015 Runtime 19.06 seconds\n",
      "\n",
      "\n",
      "Executing run number 2\n",
      "Using 2 hidden_layers with 100 units in first layer. Batch size of 512 for 100 epochs. 10 folds. Learning rate 1.0e-02\n",
      "\n",
      "Results Accuracy: mean 0.929 std 0.007 Validation Accuracy: mean 0.891 std 0.011 Runtime 19.09 seconds\n",
      "\n",
      "\n",
      "Executing run number 3\n",
      "Using 2 hidden_layers with 80 units in first layer. Batch size of 512 for 100 epochs. 10 folds. Learning rate 1.0e-02\n",
      "\n",
      "Results Accuracy: mean 0.927 std 0.005 Validation Accuracy: mean 0.893 std 0.017 Runtime 19.20 seconds\n",
      "\n",
      "\n",
      "Executing run number 4\n",
      "Using 2 hidden_layers with 60 units in first layer. Batch size of 512 for 100 epochs. 10 folds. Learning rate 1.0e-02\n",
      "\n",
      "Results Accuracy: mean 0.919 std 0.005 Validation Accuracy: mean 0.894 std 0.013 Runtime 19.00 seconds\n",
      "\n",
      "\n",
      "Executing run number 5\n",
      "Using 2 hidden_layers with 40 units in first layer. Batch size of 512 for 100 epochs. 10 folds. Learning rate 1.0e-02\n",
      "\n",
      "Results Accuracy: mean 0.917 std 0.008 Validation Accuracy: mean 0.894 std 0.010 Runtime 19.04 seconds\n",
      "\n",
      "\n"
     ]
    }
   ],
   "source": [
    "count = 0\n",
    "\n",
    "allresults = []\n",
    "\n",
    "for index,row in allruns.iterrows():\n",
    "    num_units = int(row['num_units'])\n",
    "    hidden_layers = int(row['hidden_layers'])\n",
    "    batch_size = int(row['batch_size'])\n",
    "    lr = row['lr']\n",
    "    epochs = int(row['epochs'])\n",
    "    fold_splits = int(row['fold_splits'])\n",
    "    \n",
    "    blurb = False\n",
    "    \n",
    "    print(\"Executing run number\", count)\n",
    "    print('Using {} hidden_layers with {} units in first layer. Batch size of {} for {} epochs. \\\n",
    "{} folds. Learning rate {:.1e}'.format(\n",
    "            hidden_layers, num_units, batch_size, epochs, fold_splits, lr))\n",
    "    print()\n",
    "\n",
    "    if torch.cuda.is_available():\n",
    "        model = torch.nn.DataParallel(TestModel(num_units=num_units, hidden_layers=hidden_layers)).cuda()\n",
    "        device = torch.device(\"cuda\")\n",
    "    else:\n",
    "        model = TestModel()\n",
    "        device = torch.device(\"cpu\")\n",
    "\n",
    "    if blurb:\n",
    "        print(model)\n",
    "\n",
    "    optName = \"Adam\"\n",
    "\n",
    "    if optName == \"Wame\":\n",
    "        opt = wame(model.parameters(), lr=lr)\n",
    "    if optName == \"SGD\":\n",
    "        opt = SGD(model.parameters(), lr=lr)\n",
    "    if optName == \"Adam\":\n",
    "        opt = Adam(model.parameters(), lr=lr)\n",
    "\n",
    "    loss = CrossEntropyLoss().to(device)\n",
    "    epochs = 50\n",
    "\n",
    "    nfolds = KFold(n_splits=fold_splits, shuffle=True)\n",
    "    \n",
    "    starttime = time.perf_counter()\n",
    "    foldAcc, foldVal, foldErr = RunFolds(nfolds, trainX, trainY, blurb)\n",
    "    runtime= time.perf_counter() - starttime\n",
    "    \n",
    "    print('Results Accuracy: mean {:.3f} std {:.3f} Validation Accuracy: mean {:.3f} std {:.3f} \\\n",
    "Runtime {:.2f} seconds'.format(\n",
    "        np.mean(foldAcc), np.std(foldAcc), np.mean(foldVal), np.std(foldVal), runtime) )\n",
    "    print()\n",
    "    print()      \n",
    "    \n",
    "    allresults.append(allruns.T[count].to_list() + foldAcc + foldVal + [runtime])\n",
    "          \n",
    "    count += 1"
   ]
  },
  {
   "cell_type": "code",
   "execution_count": 15,
   "metadata": {},
   "outputs": [],
   "source": [
    "import csv\n",
    "with open(indir + infile + 'Results.csv', 'w+') as file:\n",
    "    writer = csv.writer(file)\n",
    "    writer.writerows( allresults )"
   ]
  },
  {
   "cell_type": "code",
   "execution_count": null,
   "metadata": {},
   "outputs": [],
   "source": [
    "model.load_state_dict(torch.load('initial_weights.state'))\n",
    "\n",
    "trainX_tensor = torch.from_numpy(trainX).float()\n",
    "trainY_tensor = torch.from_numpy(trainY).float()\n",
    "\n",
    "valX_tensor = torch.from_numpy(testX).float()\n",
    "valY_tensor = torch.from_numpy(testY).float()\n",
    "\n",
    "time00 = time.perf_counter()\n",
    "torch.manual_seed(7)\n",
    "\n",
    "trainXY_tensor = TensorDataset(trainX_tensor, trainY_tensor)\n",
    "train_loader = DataLoader(trainXY_tensor, batch_size=batch_size)\n",
    "\n",
    "acc, val, err = RunModel(model, epochs, trainX_tensor, trainY_tensor, valX_tensor, valY_tensor)\n",
    "    \n",
    "time01 = time.perf_counter()\n",
    "train_pred, train_score = Check(trainX_tensor, trainY_tensor, model)\n",
    "error = loss(model(trainX_tensor), trainY_tensor.to(device).long())\n",
    "val_pred, val_score = Check(valX_tensor, valY_tensor, model)\n",
    "\n",
    "print('Overall: \\t accuracy: {:.6f} error: {:.6f} validation accuracy: {:.6f} time {:.3f}s'.format(\n",
    "        train_score, error, val_score, time01 - time00))"
   ]
  },
  {
   "cell_type": "code",
   "execution_count": null,
   "metadata": {},
   "outputs": [],
   "source": [
    "plotrange = epochs\n",
    "\n",
    "plt.plot(range(plotrange), acc[0:plotrange], color='green')\n",
    "plt.plot(range(plotrange), val[0:plotrange], color='blue')\n",
    "plt.plot(range(plotrange), err[0:plotrange], color='r')\n",
    "title = \"Optimizer {} reached accuracy {:.3f} in {:.2f} seconds\".format(optName, train_score, time01 - time00)\n",
    "plt.xlabel('Epochs')\n",
    "plt.ylabel('Accuracy, Validation and Error')\n",
    "plt.title(title)\n",
    "plt.show()"
   ]
  },
  {
   "cell_type": "code",
   "execution_count": null,
   "metadata": {},
   "outputs": [],
   "source": [
    "PrintResults(val_pred, valY_tensor)"
   ]
  },
  {
   "cell_type": "code",
   "execution_count": null,
   "metadata": {},
   "outputs": [],
   "source": []
  }
 ],
 "metadata": {
  "kernelspec": {
   "display_name": "Python 3",
   "language": "python",
   "name": "python3"
  },
  "language_info": {
   "codemirror_mode": {
    "name": "ipython",
    "version": 3
   },
   "file_extension": ".py",
   "mimetype": "text/x-python",
   "name": "python",
   "nbconvert_exporter": "python",
   "pygments_lexer": "ipython3",
   "version": "3.7.3"
  }
 },
 "nbformat": 4,
 "nbformat_minor": 4
}
